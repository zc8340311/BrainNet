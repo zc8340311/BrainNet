{
 "cells": [
  {
   "cell_type": "code",
   "execution_count": 5,
   "metadata": {
    "collapsed": false
   },
   "outputs": [],
   "source": [
    "import pandas as pd\n",
    "import numpy as np\n",
    "from matplotlib import pyplot as plt\n",
    "from sklearn.covariance import GraphLassoCV\n",
    "from sklearn.covariance import GraphLasso\n",
    "from scipy import linalg\n",
    "import os"
   ]
  },
  {
   "cell_type": "code",
   "execution_count": 6,
   "metadata": {
    "collapsed": true
   },
   "outputs": [],
   "source": [
    "path=r\"E:\\project\\brain network\\cleaned\\00150\""
   ]
  },
  {
   "cell_type": "code",
   "execution_count": 8,
   "metadata": {
    "collapsed": false
   },
   "outputs": [],
   "source": [
    "def createList(alpha,prec_):\n",
    "    NList = []\n",
    "    EList = []\n",
    "    Node = []\n",
    "    numN = 0\n",
    "    for i in range(prec_.shape[0]):\n",
    "        for j in range(i+1,prec_.shape[0]):\n",
    "            if prec_[i,j]>alpha:\n",
    "#                 str_i = Trans(i)\n",
    "#                 str_j = Trans(j)\n",
    "                if i not in Node:\n",
    "                    Node.append(i)\n",
    "                    Name = \"v\"+\" \"+str(numN)+\" \"+str(i)\n",
    "                    NList.append(Name)\n",
    "                    numN = numN+1\n",
    "                if j not in Node:\n",
    "                    Node.append(j)\n",
    "                    Name = \"v\"+\" \"+str(numN)+\" \"+str(j)\n",
    "                    NList.append(Name)\n",
    "                    numN = numN+1\n",
    "                EList.append(\"e\"+\" \"+str(Node.index(i))+\" \"+str(Node.index(j))+\" \"+str(i)+str(j))\n",
    "    return NList,EList"
   ]
  },
  {
   "cell_type": "code",
   "execution_count": 9,
   "metadata": {
    "collapsed": false,
    "scrolled": true
   },
   "outputs": [],
   "source": [
    "List = []\n",
    "for i in range(21,31):\n",
    "    p = path + str(i)\n",
    "    X = np.zeros([1,116])\n",
    "    for j in os.listdir(p):\n",
    "        target=\"\".join([p,\"\\\\\",j])\n",
    "        data =pd.read_csv(target)\n",
    "        data = np.array(data.ix[:,1:])\n",
    "        X = np.concatenate((X, data), axis=0)\n",
    "    \n",
    "    X = X[1:,:]\n",
    "    model = GraphLassoCV()\n",
    "    model.fit(X)\n",
    "    cov_ = model.covariance_\n",
    "    prec_ = model.precision_\n",
    "    \n",
    "    PrecM = r\"E:\\project\\brain network\\cleaned\\result\\PrecOf\"+ str(i)+\".npy\"\n",
    "    \n",
    "    prec_.dump(PrecM)\n",
    "    \n",
    "    NList,EList = createList(0,prec_)\n",
    "    List = List + [\"t # \"+str(i)]+NList+EList\n",
    "    "
   ]
  },
  {
   "cell_type": "code",
   "execution_count": 11,
   "metadata": {
    "collapsed": false
   },
   "outputs": [],
   "source": [
    "database = r\"database.txt\"\n",
    "with open(database,\"w\") as db:\n",
    "    for line in List:\n",
    "        db.write(line+\"\\n\")\n",
    "       "
   ]
  },
  {
   "cell_type": "code",
   "execution_count": null,
   "metadata": {
    "collapsed": true
   },
   "outputs": [],
   "source": []
  }
 ],
 "metadata": {
  "kernelspec": {
   "display_name": "Python 2",
   "language": "python",
   "name": "python2"
  },
  "language_info": {
   "codemirror_mode": {
    "name": "ipython",
    "version": 2
   },
   "file_extension": ".py",
   "mimetype": "text/x-python",
   "name": "python",
   "nbconvert_exporter": "python",
   "pygments_lexer": "ipython2",
   "version": "2.7.10"
  }
 },
 "nbformat": 4,
 "nbformat_minor": 0
}
