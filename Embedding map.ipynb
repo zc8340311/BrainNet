{
 "cells": [
  {
   "cell_type": "code",
   "execution_count": 2,
   "metadata": {
    "collapsed": false
   },
   "outputs": [],
   "source": [
    "import csv\n",
    "import re\n",
    "import numpy as np\n",
    "mapDic = {}\n",
    "for key, val in csv.reader(open(\"map.csv\")):\n",
    "    mapDic[key] = val"
   ]
  },
  {
   "cell_type": "code",
   "execution_count": 3,
   "metadata": {
    "collapsed": false,
    "scrolled": true
   },
   "outputs": [
    {
     "data": {
      "text/plain": [
       "'[pre_dfs(id=3, edge=<graph.Edge instance at 0x02D03F58>, prev=None), pre_dfs(id=8, edge=<graph.Edge instance at 0x02DAB9E0>, prev=None)]'"
      ]
     },
     "execution_count": 3,
     "metadata": {},
     "output_type": "execute_result"
    }
   ],
   "source": [
    "mapDic[mapDic.keys()[0]]"
   ]
  },
  {
   "cell_type": "code",
   "execution_count": 65,
   "metadata": {
    "collapsed": false
   },
   "outputs": [
    {
     "name": "stdout",
     "output_type": "stream",
     "text": [
      "{'34#98': ['id=3', 'id=5', 'id=6', 'id=7', 'id=8', 'id=9'], '58#109': ['id=3', 'id=5', 'id=6', 'id=7', 'id=8'], '11#24': ['id=3', 'id=5', 'id=6', 'id=7', 'id=9'], '12#24': ['id=0', 'id=5', 'id=6', 'id=7', 'id=8'], '24#100': ['id=0', 'id=3', 'id=6', 'id=7', 'id=8'], '9#24': ['id=0', 'id=3', 'id=5', 'id=6', 'id=7', 'id=8'], '34#49': ['id=5', 'id=6', 'id=7', 'id=8', 'id=9'], '26#100': ['id=3', 'id=4', 'id=5', 'id=7', 'id=9'], '34#63': ['id=3', 'id=5', 'id=6', 'id=7', 'id=8', 'id=9'], '29#34': ['id=0', 'id=3', 'id=5', 'id=6', 'id=8', 'id=9'], '19#34': ['id=3', 'id=6', 'id=7', 'id=8', 'id=9'], '24#60': ['id=3', 'id=6', 'id=7', 'id=8', 'id=9'], '24#98': ['id=1', 'id=3', 'id=4', 'id=6', 'id=7']}\n"
     ]
    }
   ],
   "source": [
    "def cleanMap(mapDic,group):\n",
    "    CleanDic = {}\n",
    "    for key in mapDic.keys():\n",
    "        fromL = key.split()[2]\n",
    "        Flabel = re.findall('\\d+', fromL)[0]\n",
    "        toL = key.split()[4]\n",
    "        Tlabel = re.findall('\\d+', toL)[0]\n",
    "        \n",
    "        e1 = np.array([int(Flabel),int(Tlabel)])\n",
    "        e2 = np.array([int(Tlabel),int(Flabel)])\n",
    "#         print e\n",
    "        \n",
    "        Ekey = str(Flabel)+\"#\"+str(Tlabel)\n",
    "        \n",
    "        for i in group:\n",
    "#             print i\n",
    "            if np.array_equal(e1,i) or np.array_equal(e2,i):\n",
    "                graphID = re.findall(r\"\\bid=[\\w]*\", mapDic[key])\n",
    "                CleanDic[Ekey] = graphID\n",
    "\n",
    "    return CleanDic\n",
    "\n",
    "\n",
    "CleanDic = cleanMap(mapDic,group)\n",
    "print CleanDic"
   ]
  },
  {
   "cell_type": "code",
   "execution_count": 86,
   "metadata": {
    "collapsed": true
   },
   "outputs": [],
   "source": [
    "def addTrp(CleanDic, group):\n",
    "    for i in group:\n",
    "        if len(i)>2:\n",
    "            i = np.sort(i)\n",
    "            a = str(i[0])+\"#\"+str(i[1])\n",
    "            b = str(i[1])+\"#\"+str(i[2])\n",
    "            c = str(i[0])+\"#\"+str(i[2])\n",
    "                \n",
    "            keyFind = [a,b,c]\n",
    "            result = [a in CleanDic.keys(),b in CleanDic.keys(),c in CleanDic.keys()]\n",
    "            s = sum(result)\n",
    "                \n",
    "            if s>1:\n",
    "                List = []\n",
    "                key = []\n",
    "                d = str(i[0])+\"#\"+str(i[1])+\"#\"+str(i[2])\n",
    "                    \n",
    "                for j in range(3):\n",
    "                    if result[j]:\n",
    "                        key.append(keyFind[j])\n",
    "                        \n",
    "                for m in CleanDic[key[0]]:\n",
    "                    if m in CleanDic[key[1]]:\n",
    "                        List.append(m)\n",
    "                    \n",
    "                CleanDic[d] = List\n",
    "                \n",
    "        return CleanDic"
   ]
  },
  {
   "cell_type": "code",
   "execution_count": 87,
   "metadata": {
    "collapsed": false
   },
   "outputs": [
    {
     "data": {
      "text/plain": [
       "{'11#24': ['id=3', 'id=5', 'id=6', 'id=7', 'id=9'],\n",
       " '12#24': ['id=0', 'id=5', 'id=6', 'id=7', 'id=8'],\n",
       " '19#34': ['id=3', 'id=6', 'id=7', 'id=8', 'id=9'],\n",
       " '19#34#63': ['id=3', 'id=6', 'id=7', 'id=8', 'id=9'],\n",
       " '19#34#98': ['id=3', 'id=6', 'id=7', 'id=8', 'id=9'],\n",
       " '24#100': ['id=0', 'id=3', 'id=6', 'id=7', 'id=8'],\n",
       " '24#60': ['id=3', 'id=6', 'id=7', 'id=8', 'id=9'],\n",
       " '24#98': ['id=1', 'id=3', 'id=4', 'id=6', 'id=7'],\n",
       " '26#100': ['id=3', 'id=4', 'id=5', 'id=7', 'id=9'],\n",
       " '29#34': ['id=0', 'id=3', 'id=5', 'id=6', 'id=8', 'id=9'],\n",
       " '29#34#63': ['id=3', 'id=5', 'id=6', 'id=8', 'id=9'],\n",
       " '29#34#98': ['id=3', 'id=5', 'id=6', 'id=8', 'id=9'],\n",
       " '34#49': ['id=5', 'id=6', 'id=7', 'id=8', 'id=9'],\n",
       " '34#49#63': ['id=5', 'id=6', 'id=7', 'id=8', 'id=9'],\n",
       " '34#49#98': ['id=5', 'id=6', 'id=7', 'id=8', 'id=9'],\n",
       " '34#63': ['id=3', 'id=5', 'id=6', 'id=7', 'id=8', 'id=9'],\n",
       " '34#63#98': ['id=3', 'id=5', 'id=6', 'id=7', 'id=8', 'id=9'],\n",
       " '34#98': ['id=3', 'id=5', 'id=6', 'id=7', 'id=8', 'id=9'],\n",
       " '58#109': ['id=3', 'id=5', 'id=6', 'id=7', 'id=8'],\n",
       " '9#24': ['id=0', 'id=3', 'id=5', 'id=6', 'id=7', 'id=8'],\n",
       " '9#24#100': ['id=0', 'id=3', 'id=6', 'id=7', 'id=8']}"
      ]
     },
     "execution_count": 87,
     "metadata": {},
     "output_type": "execute_result"
    }
   ],
   "source": [
    "addTrp(CleanDic, group)"
   ]
  },
  {
   "cell_type": "code",
   "execution_count": null,
   "metadata": {
    "collapsed": true
   },
   "outputs": [],
   "source": []
  },
  {
   "cell_type": "code",
   "execution_count": 4,
   "metadata": {
    "collapsed": false
   },
   "outputs": [],
   "source": [
    "group = [np.array([58, 109]), np.array([34, 98]), np.array([34, 63]), np.array([34, 98, 63]), np.array([49, 34]), np.array([49, 34, 98]), np.array([49, 34, 63]), np.array([49, 34, 98, 63]), np.array([34, 29]), np.array([34, 98, 29]), np.array([34, 29, 63]), np.array([34, 98, 29, 63]), np.array([ 26, 100]), np.array([24, 100]), np.array([24, 98]), np.array([24, 60]), np.array([34, 19]), np.array([34, 19, 98]), np.array([34, 19, 63]), np.array([34, 19, 98, 63]), np.array([24,12]), np.array([24,11]), np.array([24,9]), np.array([ 24,9,100])]"
   ]
  },
  {
   "cell_type": "code",
   "execution_count": 45,
   "metadata": {
    "collapsed": false
   },
   "outputs": [
    {
     "name": "stdout",
     "output_type": "stream",
     "text": [
      "[array([ 58, 109]), array([34, 98]), array([34, 63]), array([34, 98, 63]), array([49, 34]), array([49, 34, 98]), array([49, 34, 63]), array([49, 34, 98, 63]), array([34, 29]), array([34, 98, 29]), array([34, 29, 63]), array([34, 98, 29, 63]), array([ 26, 100]), array([ 24, 100]), array([24, 98]), array([24, 60]), array([34, 19]), array([34, 19, 98]), array([34, 19, 63]), array([34, 19, 98, 63]), array([24, 12]), array([24, 11]), array([24,  9]), array([ 24,   9, 100])]\n"
     ]
    }
   ],
   "source": [
    "print group"
   ]
  },
  {
   "cell_type": "code",
   "execution_count": 50,
   "metadata": {
    "collapsed": true
   },
   "outputs": [],
   "source": [
    "a = ['id=3', 'id=5', 'id=6', 'id=7', 'id=8', 'id=9']"
   ]
  },
  {
   "cell_type": "code",
   "execution_count": 51,
   "metadata": {
    "collapsed": false
   },
   "outputs": [],
   "source": [
    "b = ['id=3', 'id=5', 'id=6', 'id=7', 'id=8', 'id=9']"
   ]
  },
  {
   "cell_type": "code",
   "execution_count": 52,
   "metadata": {
    "collapsed": false
   },
   "outputs": [],
   "source": [
    "a = [0,1,1]"
   ]
  },
  {
   "cell_type": "code",
   "execution_count": 58,
   "metadata": {
    "collapsed": false
   },
   "outputs": [],
   "source": [
    "b = [\"a\",\"b\",\"c\"]"
   ]
  },
  {
   "cell_type": "code",
   "execution_count": 60,
   "metadata": {
    "collapsed": false
   },
   "outputs": [
    {
     "ename": "TypeError",
     "evalue": "'list' object is not callable",
     "output_type": "error",
     "traceback": [
      "\u001b[1;31m---------------------------------------------------------------------------\u001b[0m",
      "\u001b[1;31mTypeError\u001b[0m                                 Traceback (most recent call last)",
      "\u001b[1;32m<ipython-input-60-193394110b59>\u001b[0m in \u001b[0;36m<module>\u001b[1;34m()\u001b[0m\n\u001b[1;32m----> 1\u001b[1;33m \u001b[0mb\u001b[0m\u001b[1;33m(\u001b[0m\u001b[0ma\u001b[0m\u001b[1;33m)\u001b[0m\u001b[1;33m\u001b[0m\u001b[0m\n\u001b[0m",
      "\u001b[1;31mTypeError\u001b[0m: 'list' object is not callable"
     ]
    }
   ],
   "source": []
  },
  {
   "cell_type": "code",
   "execution_count": null,
   "metadata": {
    "collapsed": true
   },
   "outputs": [],
   "source": []
  }
 ],
 "metadata": {
  "kernelspec": {
   "display_name": "Python 2",
   "language": "python",
   "name": "python2"
  },
  "language_info": {
   "codemirror_mode": {
    "name": "ipython",
    "version": 2
   },
   "file_extension": ".py",
   "mimetype": "text/x-python",
   "name": "python",
   "nbconvert_exporter": "python",
   "pygments_lexer": "ipython2",
   "version": "2.7.10"
  }
 },
 "nbformat": 4,
 "nbformat_minor": 0
}
